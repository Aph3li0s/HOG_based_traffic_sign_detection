{
 "cells": [
  {
   "cell_type": "code",
   "execution_count": 1,
   "metadata": {},
   "outputs": [],
   "source": [
    "import numpy as np\n",
    "import cv2\n",
    "import os\n",
    "from sklearn.discriminant_analysis import LinearDiscriminantAnalysis\n",
    "from sklearn.model_selection import train_test_split\n",
    "from sklearn.metrics import accuracy_score\n",
    "from sklearn.preprocessing import StandardScaler\n",
    "from sklearn.pipeline import Pipeline\n",
    "from skimage.feature import hog\n",
    "from skimage import exposure"
   ]
  },
  {
   "cell_type": "code",
   "execution_count": 81,
   "metadata": {},
   "outputs": [],
   "source": [
    "def hog_features(image):\n",
    "    image = cv2.resize(image, (64, 64))\n",
    "    features = hog(image, pixels_per_cell=(4, 4), cells_per_block=(2, 2), transform_sqrt=True, block_norm=\"L2\")\n",
    "    return features\n",
    "\n",
    "def get_data():\n",
    "    features_lst, labels_lst = [], []\n",
    "    im_dir = os.listdir('bbox')\n",
    "    # for img_dir in im_dir:\n",
    "    #     labels_lst.append('traffic-sign')\n",
    "    #     img = cv2.imread(os.path.join('bbox', img_dir), cv2.IMREAD_GRAYSCALE)\n",
    "    #     features_lst.append(hog_features(img))\n",
    "    for img_dir in im_dir:\n",
    "        number = int(img_dir.rsplit('_', 2)[-1].split('.')[0])\n",
    "        labels_lst.append(number)\n",
    "        img = cv2.imread(os.path.join('bbox', img_dir), cv2.IMREAD_GRAYSCALE)\n",
    "        features_lst.append(hog_features(img))\n",
    "    print(\"Read \", len(features_lst), \" images\")\n",
    "    \n",
    "    im_dir = os.listdir('bbox2')\n",
    "    for img_dir in im_dir:\n",
    "        labels_lst.append('background')\n",
    "        img = cv2.imread(os.path.join('bbox2', img_dir), cv2.IMREAD_GRAYSCALE)\n",
    "        features_lst.append(hog_features(img))\n",
    "    print(\"Read \", len(features_lst), \" images\")\n",
    "    return features_lst, labels_lst\n",
    "# def get_data():\n",
    "#     features_lst, labels_lst = [], []\n",
    "#     im_dir = os.listdir('bbox')\n",
    "#     for img_dir in im_dir:\n",
    "#         number = int(img_dir.rsplit('_', 2)[-1].split('.')[0])\n",
    "#         labels_lst.append(number)\n",
    "#         img = cv2.imread(os.path.join('bbox', img_dir), cv2.IMREAD_GRAYSCALE)\n",
    "#         features_lst.append(hog_features(img))\n",
    "#     print(\"Read \", len(features_lst), \" images\")\n",
    "#     return features_lst, labels_lst"
   ]
  },
  {
   "cell_type": "code",
   "execution_count": 82,
   "metadata": {},
   "outputs": [],
   "source": [
    "features_lst, labels_lst = get_data()\n",
    "classes_lst = list(set(labels_lst))"
   ]
  },
  {
   "cell_type": "code",
   "execution_count": 71,
   "metadata": {},
   "outputs": [],
   "source": [
    "X_train, X_test, y_train, y_test = train_test_split(features_lst, labels_lst, test_size=0.2, random_state=42)"
   ]
  },
  {
   "cell_type": "code",
   "execution_count": 72,
   "metadata": {},
   "outputs": [
    {
     "name": "stdout",
     "output_type": "stream",
     "text": [
      "Accuracy: 0.97810300525081\n"
     ]
    }
   ],
   "source": [
    "lda = LinearDiscriminantAnalysis()\n",
    "\n",
    "# Construct a pipeline with scaling and LDA\n",
    "pipeline = Pipeline([\n",
    "    ('scaler', StandardScaler()),  # Scale features\n",
    "    ('lda', lda)\n",
    "])\n",
    "\n",
    "# Train the LDA model\n",
    "pipeline.fit(X_train, y_train)\n",
    "\n",
    "# Predict on the test set\n",
    "y_pred = pipeline.predict(X_test)\n",
    "\n",
    "# Calculate accuracy\n",
    "accuracy = accuracy_score(y_test, y_pred)\n",
    "print(\"Accuracy:\", accuracy)"
   ]
  },
  {
   "cell_type": "code",
   "execution_count": 73,
   "metadata": {},
   "outputs": [
    {
     "data": {
      "text/plain": [
       "['lda_apr10.pkl']"
      ]
     },
     "execution_count": 73,
     "metadata": {},
     "output_type": "execute_result"
    }
   ],
   "source": [
    "import joblib\n",
    "joblib.dump(pipeline, 'lda_apr10.pkl')"
   ]
  },
  {
   "cell_type": "code",
   "execution_count": 3,
   "metadata": {},
   "outputs": [
    {
     "name": "stdout",
     "output_type": "stream",
     "text": [
      "Predicted Class: ['background']\n"
     ]
    }
   ],
   "source": [
    "import joblib\n",
    "pipeline_loaded = joblib.load('model/lda_apr10.pkl')\n",
    "\n",
    "test_im = cv2.resize(cv2.imread('clipped_roi/3.jpg', cv2.IMREAD_GRAYSCALE), (64, 64))\n",
    "# test_im = cv2.resize(cv2.imread('window0_40.jpg', cv2.IMREAD_GRAYSCALE), (64, 64))\n",
    "features = hog(test_im, pixels_per_cell=(4, 4), cells_per_block=(2, 2), transform_sqrt=True, block_norm=\"L2\")\n",
    "    \n",
    "features = np.array(features).reshape(1, -1)\n",
    "predicted_class = pipeline_loaded.predict(features)\n",
    "with open('data/classes.txt', 'r') as file:\n",
    "    label = []\n",
    "    for line in file:\n",
    "        label.append(line.strip())\n",
    "\n",
    "print(\"Predicted Class:\", predicted_class)\n",
    "if predicted_class == 'background':\n",
    "    predicted_class = -1\n",
    "else:\n",
    "    print(\"Predicted Class:\", label[int(predicted_class[0])])\n",
    "# print(predicted_class)\n",
    "# print(label[int(predicted_class[0])])\n"
   ]
  },
  {
   "cell_type": "code",
   "execution_count": null,
   "metadata": {},
   "outputs": [],
   "source": []
  }
 ],
 "metadata": {
  "kernelspec": {
   "display_name": "aphe2",
   "language": "python",
   "name": "python3"
  },
  "language_info": {
   "codemirror_mode": {
    "name": "ipython",
    "version": 3
   },
   "file_extension": ".py",
   "mimetype": "text/x-python",
   "name": "python",
   "nbconvert_exporter": "python",
   "pygments_lexer": "ipython3",
   "version": "3.12.2"
  }
 },
 "nbformat": 4,
 "nbformat_minor": 2
}
